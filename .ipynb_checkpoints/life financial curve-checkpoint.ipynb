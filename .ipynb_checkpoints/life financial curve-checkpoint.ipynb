{
 "cells": [
  {
   "cell_type": "code",
   "execution_count": 1,
   "metadata": {},
   "outputs": [
    {
     "data": {
      "application/vnd.jupyter.widget-view+json": {
       "model_id": "5c23744024094cb68ad86da8ad7b83bd",
       "version_major": 2,
       "version_minor": 0
      },
      "text/plain": [
       "interactive(children=(FloatSlider(value=20.0, description='funds', step=10.0), IntSlider(value=30, description…"
      ]
     },
     "metadata": {},
     "output_type": "display_data"
    },
    {
     "data": {
      "text/plain": [
       "<function __main__.asset_prediction(funds, start_age, salary, cost_per_month, rent, retire_age, invest_rate, return_rate, house_price, down_payment, house_buying_age, mortgage_rate, mortgage_year)>"
      ]
     },
     "execution_count": 1,
     "metadata": {},
     "output_type": "execute_result"
    }
   ],
   "source": [
    "import pandas as pd\n",
    "import random\n",
    "%matplotlib inline\n",
    "\n",
    "def asset_prediction(funds, \n",
    "                     start_age, \n",
    "                     salary, \n",
    "                     cost_per_month, \n",
    "                     rent, retire_age, \n",
    "                     invest_rate, \n",
    "                     return_rate, \n",
    "                     house_price, \n",
    "                     down_payment, \n",
    "                     house_buying_age, \n",
    "                     mortgage_rate, \n",
    "                     mortgage_year):\n",
    "    \n",
    "    periods = range(start_age, 100)\n",
    "    \n",
    "    # benefit_per_year without buying house & investment\n",
    "    benefit_per_year = pd.Series(0, index=periods)\n",
    "    benefit_per_year.iloc[0] = funds\n",
    "    benefit_per_year.loc[:retire_age] += salary * 12\n",
    "    benefit_per_year -= (cost_per_month + rent) * 12\n",
    "    \n",
    "    #considering investment\n",
    "    def invest_asset(benefit_per_year, invest_rate, return_rate):\n",
    "        invest_asset = [benefit_per_year.iloc[0]]\n",
    "        for benefit in benefit_per_year[1:]:\n",
    "            invest_asset.append(invest_asset[-1] * invest_rate * return_rate + invest_asset[-1] * (1 - invest_rate) + benefit)\n",
    "        return pd.Series(invest_asset, periods)\n",
    "    \n",
    "    #house buying cost\n",
    "    house_buying_cost = pd.Series(0, index=periods)\n",
    "    house_buying_cost[house_buying_age] = down_payment\n",
    "    house_buying_cost.loc[house_buying_age: house_buying_age + mortgage_year - 1] += (house_price - down_payment) / mortgage_year\n",
    "    \n",
    "    #overdraft\n",
    "    overdraft = pd.Series(0, index=periods)\n",
    "    overdraft[house_buying_age] = house_price\n",
    "    overdraft = overdraft.cumsum()\n",
    "    overdraft = overdraft - house_buying_cost.cumsum()\n",
    "    interest_expend = overdraft.shift().fillna(0) * mortgage_rate / 100\n",
    "    \n",
    "    #rent cost if buying house\n",
    "    rent_per_year = pd.Series(rent*12, index=periods)\n",
    "    rent_per_year.loc[house_buying_age:] = 0\n",
    "    \n",
    "    #no investment but buying house\n",
    "    no_invest_house_benefit = pd.Series(0, index=periods)\n",
    "    no_invest_house_benefit.iloc[0] = funds\n",
    "    no_invest_house_benefit.loc[:retire_age] += salary * 12\n",
    "    no_invest_house_benefit -= (cost_per_month*12 + rent_per_year + interest_expend + house_buying_cost)\n",
    "    \n",
    "    pd.DataFrame({\n",
    "        'no invest, no house': benefit_per_year.cumsum(),\n",
    "        'invest, no house': invest_asset(benefit_per_year, invest_rate, return_rate),\n",
    "        'no invest, house': no_invest_house_benefit.cumsum(),\n",
    "        'invest, house': invest_asset(no_invest_house_benefit, invest_rate, return_rate),\n",
    "    }).plot()\n",
    "    \n",
    "    \n",
    "    import matplotlib.pylab as plt\n",
    "    plt.ylim(0, None)\n",
    "    \n",
    "    print('mortgage per month: ', (house_price - down_payment) / mortgage_year / 12)\n",
    "    print('interest_expend', interest_expend.sum() / mortgage_year)\n",
    "    print('unit: 10 thousands')\n",
    "\n",
    "import ipywidgets as widgets\n",
    "widgets.interact(asset_prediction, \n",
    "    funds = widgets.FloatSlider(min=0, max=100, step=10, value=20),\n",
    "    start_age = widgets.IntSlider(min=0, max=100, step=1, value=30),\n",
    "    salary = widgets.FloatSlider(min=0, max=20, step=0.1, value=3),\n",
    "    cost_per_month = widgets.FloatSlider(min=0, max=20, step=0.2, value=1),\n",
    "    rent = widgets.FloatSlider(min=0, max=20, step=0.5, value=1),\n",
    "    retire_age = widgets.IntSlider(min=0, max=100, step=1, value=60),\n",
    "    invest_rate = widgets.FloatSlider(min=0, max=1, step=0.1, value=0.7),\n",
    "    return_rate = widgets.FloatSlider(min=0, max=20, step=0.5, value=5),\n",
    "    house_price = widgets.IntSlider(min=100, max=2000, step=50, value=300),\n",
    "    down_payment = widgets.IntSlider(min=100, max=2000, step=50, value=100),\n",
    "    house_buying_age = widgets.IntSlider(min=20, max=100, step=1, value=40),\n",
    "    mortgage_rate = widgets.FloatSlider(min=1, max=5, step=0.1, value=2.4),\n",
    "    mortgage_year = widgets.IntSlider(min=0, max=40, step=1, value=20)\n",
    ")"
   ]
  },
  {
   "cell_type": "code",
   "execution_count": null,
   "metadata": {},
   "outputs": [],
   "source": []
  }
 ],
 "metadata": {
  "kernelspec": {
   "display_name": "Python 3",
   "language": "python",
   "name": "python3"
  },
  "language_info": {
   "codemirror_mode": {
    "name": "ipython",
    "version": 3
   },
   "file_extension": ".py",
   "mimetype": "text/x-python",
   "name": "python",
   "nbconvert_exporter": "python",
   "pygments_lexer": "ipython3",
   "version": "3.7.4"
  }
 },
 "nbformat": 4,
 "nbformat_minor": 2
}
